{
  "nbformat": 4,
  "nbformat_minor": 0,
  "metadata": {
    "colab": {
      "provenance": [],
      "toc_visible": true
    },
    "kernelspec": {
      "name": "python3",
      "display_name": "Python 3"
    }
  },
  "cells": [
    {
      "cell_type": "markdown",
      "metadata": {
        "id": "gpfV-EvZPiP0"
      },
      "source": [
        "# Logistic Regression Introduction\n",
        "\n",
        "####While we used linear regression to deal with continuous data, that helped in predicting a future value on the basis of past data, logistic regression is different. Logsitic regression is used when the dependent variable is dichotomous (binary). For example: positive-negative, 0-1, pass-fail, benign-malignant, etc. It is assumed that the data for such dichotomous nature would be independent and that there's no correlation of data between two classes.\n"
      ]
    },
    {
      "cell_type": "markdown",
      "metadata": {
        "id": "avQGnJNbTvNN"
      },
      "source": [
        "Many will think, why not linear regression? That's because linear data plotted on graph may look something like this:\n",
        "\n",
        "\n",
        "<figure>\n",
        "<center>\n",
        "<img src='https://drive.google.com/uc?id=192bLivyYTXRLQaJsG8h-8jphieelQ-HX'/>\n",
        "  </center>\n",
        "  <center><figcaption><b>Linear Regression to fit dichotomous data</b></figcaption></center>\n",
        "</figure>\n",
        "\n",
        "But what if we are faced with data having outlier points? \n",
        "\n",
        "<figure>\n",
        "<center>\n",
        "<img src='https://drive.google.com/uc?id=1Bk_tgAS1gMjEKqh6CVo6iZ3vNYzLf6Hx'/>\n",
        "  </center>\n",
        "  <center><figcaption><b>Linear Regression to fit dichotomous data with outliers</b></figcaption></center>\n",
        "</figure>\n",
        "\n",
        "It is clearly visible that the line shifts just because of one outlier. This increases confusion of the model. \n",
        "\n",
        "Hence, Logistic regression is used."
      ]
    },
    {
      "cell_type": "markdown",
      "metadata": {
        "id": "lPX6x1cRX81E"
      },
      "source": [
        "In logistic regression, we use logistic functions that are used to plot probabilistic models. \n",
        "\n",
        "Sigmoid function is a logistic function that's used in logistic regression. This is how it looks: \n",
        "\n",
        "\n",
        "<figure>\n",
        "<center>\n",
        "<img src='https://drive.google.com/uc?id=1ro0WaW1kszK3InLQNVoKAoFD9K370REO'/>\n",
        "  </center>\n",
        "  <center><figcaption><b>Sigmoid function</b></figcaption></center>\n",
        "</figure>\n",
        "\n",
        "### Let's plot this graph using Python."
      ]
    },
    {
      "cell_type": "code",
      "source": [
        "import math\n",
        "%matplotlib inline\n",
        "import matplotlib.pyplot as plt\n",
        "import numpy as np\n",
        "import warnings\n",
        "from sklearn.model_selection import train_test_split\n",
        "\n",
        "warnings.simplefilter('ignore')\n",
        "x = np.arange(-10., 10., 0.2)"
      ],
      "metadata": {
        "id": "8YefcQR6rXkr"
      },
      "execution_count": 1,
      "outputs": []
    },
    {
      "cell_type": "markdown",
      "source": [
        "####Math Module"
      ],
      "metadata": {
        "id": "wZh7jhzYzkIg"
      }
    },
    {
      "cell_type": "code",
      "metadata": {
        "id": "r0ZJewoXXrKQ"
      },
      "source": [
        "def sigmoid(x):\n",
        "    a = []\n",
        "    for item in x:\n",
        "        a.append(1/(1+math.exp(-item)))\n",
        "    return a"
      ],
      "execution_count": 2,
      "outputs": []
    },
    {
      "cell_type": "code",
      "metadata": {
        "id": "v1PijRvKaf2E",
        "colab": {
          "base_uri": "https://localhost:8080/",
          "height": 265
        },
        "outputId": "0bca3cda-98a1-4001-cdca-c8e987d1d8b8"
      },
      "source": [
        "sig = sigmoid(x)\n",
        "plt.plot(x,sig)\n",
        "plt.grid(True)\n",
        "plt.show()"
      ],
      "execution_count": 3,
      "outputs": [
        {
          "output_type": "display_data",
          "data": {
            "text/plain": [
              "<Figure size 432x288 with 1 Axes>"
            ],
            "image/png": "[encoded data removed]"
          },
          "metadata": {
            "needs_background": "light"
          }
        }
      ]
    },
    {
      "cell_type": "markdown",
      "source": [
        "####Numpy Module"
      ],
      "metadata": {
        "id": "IhrsWiR4zv58"
      }
    },
    {
      "cell_type": "code",
      "source": [
        "def numpy_sigmoid(x):\n",
        "  a = 1/(1+np.exp(-x))\n",
        "  return a"
      ],
      "metadata": {
        "id": "vamInMv0qguo"
      },
      "execution_count": 4,
      "outputs": []
    },
    {
      "cell_type": "code",
      "source": [
        "sig = numpy_sigmoid(x)\n",
        "plt.plot(x, sig)\n",
        "plt.grid(True)\n",
        "plt.show()"
      ],
      "metadata": {
        "id": "TbM_2jB8qypT",
        "colab": {
          "base_uri": "https://localhost:8080/",
          "height": 265
        },
        "outputId": "5191d888-13a6-4a25-fff5-4db513b28751"
      },
      "execution_count": 5,
      "outputs": [
        {
          "output_type": "display_data",
          "data": {
            "text/plain": [
              "<Figure size 432x288 with 1 Axes>"
            ],
            "image/png": "[encoded data removed]"
          },
          "metadata": {
            "needs_background": "light"
          }
        }
      ]
    },
    {
      "cell_type": "markdown",
      "source": [
        "###Other Activation functions\n",
        "\n",
        "https://towardsdatascience.com/activation-functions-neural-networks-1cbd9f8d91d6#:~:text=The%20tanh%20function%20is%20mainly,used%20in%20feed-forward%20nets.\n",
        "\n",
        "![image.png](data:image/png;base64,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)"
      ],
      "metadata": {
        "id": "20tBZtEloMt-"
      }
    },
    {
      "cell_type": "markdown",
      "source": [
        "#Getting the Data"
      ],
      "metadata": {
        "id": "vWrbOgTqy4cc"
      }
    },
    {
      "cell_type": "markdown",
      "metadata": {
        "id": "ItbgATl7tE0G"
      },
      "source": [
        "As an example, we will start working on the famous Titanic Dataset hosted on Kaggle. This example will also help us understand some data pre processing and how to draw inference and make next steps.\n",
        "\n",
        "Download From : \n",
        "https://www.kaggle.com/c/titanic/data\n"
      ]
    },
    {
      "cell_type": "code",
      "metadata": {
        "id": "oykQKWNotUX1"
      },
      "source": [
        "import numpy as np \n",
        "import pandas as pd \n",
        "import seaborn as sns\n",
        "%matplotlib inline\n",
        "from matplotlib import pyplot as plt\n",
        "from matplotlib import style\n",
        "\n",
        "# Algorithms\n",
        "from sklearn import linear_model\n",
        "from sklearn.linear_model import LogisticRegression\n"
      ],
      "execution_count": 6,
      "outputs": []
    },
    {
      "cell_type": "code",
      "metadata": {
        "id": "7BHDjA76uPFa",
        "colab": {
          "base_uri": "https://localhost:8080/"
        },
        "outputId": "e198152a-5c55-4c13-d45a-e2d2162a26dc"
      },
      "source": [
        "from google.colab import drive\n",
        "drive.mount('/content/drive')"
      ],
      "execution_count": 7,
      "outputs": [
        {
          "output_type": "stream",
          "name": "stdout",
          "text": [
            "Drive already mounted at /content/drive; to attempt to forcibly remount, call drive.mount(\"/content/drive\", force_remount=True).\n"
          ]
        }
      ]
    },
    {
      "cell_type": "code",
      "metadata": {
        "id": "VKbFxzy8tX_q"
      },
      "source": [
        "#Change these accordingly\n",
        "\n",
        "test_df = pd.read_csv(\"/content/drive/MyDrive/2019-20 Content/ML-DL101 2019/ML-DL101 Datasets/test_titanic.csv\")\n",
        "train_df = pd.read_csv(\"/content/drive/MyDrive/2019-20 Content/ML-DL101 2019/ML-DL101 Datasets/train_titanic.csv\")"
      ],
      "execution_count": 8,
      "outputs": []
    },
    {
      "cell_type": "markdown",
      "source": [
        "###Data Pre-Processing"
      ],
      "metadata": {
        "id": "6mMT6k5K250E"
      }
    },
    {
      "cell_type": "code",
      "metadata": {
        "id": "e7Pb5nNeu-8Q",
        "colab": {
          "base_uri": "https://localhost:8080/"
        },
        "outputId": "3b78f26a-749c-4ed4-c35c-1ff1b3ece585"
      },
      "source": [
        "train_df.info()"
      ],
      "execution_count": 9,
      "outputs": [
        {
          "output_type": "stream",
          "name": "stdout",
          "text": [
            "<class 'pandas.core.frame.DataFrame'>\n",
            "RangeIndex: 891 entries, 0 to 890\n",
            "Data columns (total 12 columns):\n",
            " #   Column       Non-Null Count  Dtype  \n",
            "---  ------       --------------  -----  \n",
            " 0   PassengerId  891 non-null    int64  \n",
            " 1   Survived     891 non-null    int64  \n",
            " 2   Pclass       891 non-null    int64  \n",
            " 3   Name         891 non-null    object \n",
            " 4   Sex          891 non-null    object \n",
            " 5   Age          714 non-null    float64\n",
            " 6   SibSp        891 non-null    int64  \n",
            " 7   Parch        891 non-null    int64  \n",
            " 8   Ticket       891 non-null    object \n",
            " 9   Fare         891 non-null    float64\n",
            " 10  Cabin        204 non-null    object \n",
            " 11  Embarked     889 non-null    object \n",
            "dtypes: float64(2), int64(5), object(5)\n",
            "memory usage: 83.7+ KB\n"
          ]
        }
      ]
    },
    {
      "cell_type": "code",
      "metadata": {
        "id": "h0UBHi6ivEUe",
        "colab": {
          "base_uri": "https://localhost:8080/",
          "height": 300
        },
        "outputId": "f22433da-6e0d-4368-ddc8-2db14e33aef8"
      },
      "source": [
        "train_df.describe()"
      ],
      "execution_count": 10,
      "outputs": [
        {
          "output_type": "execute_result",
          "data": {
            "text/plain": [
              "       PassengerId    Survived      Pclass         Age       SibSp  \\\n",
              "count   891.000000  891.000000  891.000000  714.000000  891.000000   \n",
              "mean    446.000000    0.383838    2.308642   29.699118    0.523008   \n",
              "std     257.353842    0.486592    0.836071   14.526497    1.102743   \n",
              "min       1.000000    0.000000    1.000000    0.420000    0.000000   \n",
              "25%     223.500000    0.000000    2.000000   20.125000    0.000000   \n",
              "50%     446.000000    0.000000    3.000000   28.000000    0.000000   \n",
              "75%     668.500000    1.000000    3.000000   38.000000    1.000000   \n",
              "max     891.000000    1.000000    3.000000   80.000000    8.000000   \n",
              "\n",
              "            Parch        Fare  \n",
              "count  891.000000  891.000000  \n",
              "mean     0.381594   32.204208  \n",
              "std      0.806057   49.693429  \n",
              "min      0.000000    0.000000  \n",
              "25%      0.000000    7.910400  \n",
              "50%      0.000000   14.454200  \n",
              "75%      0.000000   31.000000  \n",
              "max      6.000000  512.329200  "
            ],
            "text/html": [
              "\n",
              "  <div id=\"df-7d84a194-dbf2-4084-9733-160d65f3d447\">\n",
              "    <div class=\"colab-df-container\">\n",
              "      <div>\n",
              "<style scoped>\n",
              "    .dataframe tbody tr th:only-of-type {\n",
              "        vertical-align: middle;\n",
              "    }\n",
              "\n",
              "    .dataframe tbody tr th {\n",
              "        vertical-align: top;\n",
              "    }\n",
              "\n",
              "    .dataframe thead th {\n",
              "        text-align: right;\n",
              "    }\n",
              "</style>\n",
              "<table border=\"1\" class=\"dataframe\">\n",
              "  <thead>\n",
              "    <tr style=\"text-align: right;\">\n",
              "      <th></th>\n",
              "      <th>PassengerId</th>\n",
              "      <th>Survived</th>\n",
              "      <th>Pclass</th>\n",
              "      <th>Age</th>\n",
              "      <th>SibSp</th>\n",
              "      <th>Parch</th>\n",
              "      <th>Fare</th>\n",
              "    </tr>\n",
              "  </thead>\n",
              "  <tbody>\n",
              "    <tr>\n",
              "      <th>count</th>\n",
              "      <td>891.000000</td>\n",
              "      <td>891.000000</td>\n",
              "      <td>891.000000</td>\n",
              "      <td>714.000000</td>\n",
              "      <td>891.000000</td>\n",
              "      <td>891.000000</td>\n",
              "      <td>891.000000</td>\n",
              "    </tr>\n",
              "    <tr>\n",
              "      <th>mean</th>\n",
              "      <td>446.000000</td>\n",
              "      <td>0.383838</td>\n",
              "      <td>2.308642</td>\n",
              "      <td>29.699118</td>\n",
              "      <td>0.523008</td>\n",
              "      <td>0.381594</td>\n",
              "      <td>32.204208</td>\n",
              "    </tr>\n",
              "    <tr>\n",
              "      <th>std</th>\n",
              "      <td>257.353842</td>\n",
              "      <td>0.486592</td>\n",
              "      <td>0.836071</td>\n",
              "      <td>14.526497</td>\n",
              "      <td>1.102743</td>\n",
              "      <td>0.806057</td>\n",
              "      <td>49.693429</td>\n",
              "    </tr>\n",
              "    <tr>\n",
              "      <th>min</th>\n",
              "      <td>1.000000</td>\n",
              "      <td>0.000000</td>\n",
              "      <td>1.000000</td>\n",
              "      <td>0.420000</td>\n",
              "      <td>0.000000</td>\n",
              "      <td>0.000000</td>\n",
              "      <td>0.000000</td>\n",
              "    </tr>\n",
              "    <tr>\n",
              "      <th>25%</th>\n",
              "      <td>223.500000</td>\n",
              "      <td>0.000000</td>\n",
              "      <td>2.000000</td>\n",
              "      <td>20.125000</td>\n",
              "      <td>0.000000</td>\n",
              "      <td>0.000000</td>\n",
              "      <td>7.910400</td>\n",
              "    </tr>\n",
              "    <tr>\n",
              "      <th>50%</th>\n",
              "      <td>446.000000</td>\n",
              "      <td>0.000000</td>\n",
              "      <td>3.000000</td>\n",
              "      <td>28.000000</td>\n",
              "      <td>0.000000</td>\n",
              "      <td>0.000000</td>\n",
              "      <td>14.454200</td>\n",
              "    </tr>\n",
              "    <tr>\n",
              "      <th>75%</th>\n",
              "      <td>668.500000</td>\n",
              "      <td>1.000000</td>\n",
              "      <td>3.000000</td>\n",
              "      <td>38.000000</td>\n",
              "      <td>1.000000</td>\n",
              "      <td>0.000000</td>\n",
              "      <td>31.000000</td>\n",
              "    </tr>\n",
              "    <tr>\n",
              "      <th>max</th>\n",
              "      <td>891.000000</td>\n",
              "      <td>1.000000</td>\n",
              "      <td>3.000000</td>\n",
              "      <td>80.000000</td>\n",
              "      <td>8.000000</td>\n",
              "      <td>6.000000</td>\n",
              "      <td>512.329200</td>\n",
              "    </tr>\n",
              "  </tbody>\n",
              "</table>\n",
              "</div>\n",
              "      <button class=\"colab-df-convert\" onclick=\"convertToInteractive('df-7d84a194-dbf2-4084-9733-160d65f3d447')\"\n",
              "              title=\"Convert this dataframe to an interactive table.\"\n",
              "              style=\"display:none;\">\n",
              "        \n",
              "  <svg xmlns=\"http://www.w3.org/2000/svg\" height=\"24px\"viewBox=\"0 0 24 24\"\n",
              "       width=\"24px\">\n",
              "    <path d=\"M0 0h24v24H0V0z\" fill=\"none\"/>\n",
              "    <path d=\"M18.56 5.44l.94 2.06.94-2.06 2.06-.94-2.06-.94-.94-2.06-.94 2.06-2.06.94zm-11 1L8.5 8.5l.94-2.06 2.06-.94-2.06-.94L8.5 2.5l-.94 2.06-2.06.94zm10 10l.94 2.06.94-2.06 2.06-.94-2.06-.94-.94-2.06-.94 2.06-2.06.94z\"/><path d=\"M17.41 7.96l-1.37-1.37c-.4-.4-.92-.59-1.43-.59-.52 0-1.04.2-1.43.59L10.3 9.45l-7.72 7.72c-.78.78-.78 2.05 0 2.83L4 21.41c.39.39.9.59 1.41.59.51 0 1.02-.2 1.41-.59l7.78-7.78 2.81-2.81c.8-.78.8-2.07 0-2.86zM5.41 20L4 18.59l7.72-7.72 1.47 1.35L5.41 20z\"/>\n",
              "  </svg>\n",
              "      </button>\n",
              "      \n",
              "  <style>\n",
              "    .colab-df-container {\n",
              "      display:flex;\n",
              "      flex-wrap:wrap;\n",
              "      gap: 12px;\n",
              "    }\n",
              "\n",
              "    .colab-df-convert {\n",
              "      background-color: #E8F0FE;\n",
              "      border: none;\n",
              "      border-radius: 50%;\n",
              "      cursor: pointer;\n",
              "      display: none;\n",
              "      fill: #1967D2;\n",
              "      height: 32px;\n",
              "      padding: 0 0 0 0;\n",
              "      width: 32px;\n",
              "    }\n",
              "\n",
              "    .colab-df-convert:hover {\n",
              "      background-color: #E2EBFA;\n",
              "      box-shadow: 0px 1px 2px rgba(60, 64, 67, 0.3), 0px 1px 3px 1px rgba(60, 64, 67, 0.15);\n",
              "      fill: #174EA6;\n",
              "    }\n",
              "\n",
              "    [theme=dark] .colab-df-convert {\n",
              "      background-color: #3B4455;\n",
              "      fill: #D2E3FC;\n",
              "    }\n",
              "\n",
              "    [theme=dark] .colab-df-convert:hover {\n",
              "      background-color: #434B5C;\n",
              "      box-shadow: 0px 1px 3px 1px rgba(0, 0, 0, 0.15);\n",
              "      filter: drop-shadow(0px 1px 2px rgba(0, 0, 0, 0.3));\n",
              "      fill: #FFFFFF;\n",
              "    }\n",
              "  </style>\n",
              "\n",
              "      <script>\n",
              "        const buttonEl =\n",
              "          document.querySelector('#df-7d84a194-dbf2-4084-9733-160d65f3d447 button.colab-df-convert');\n",
              "        buttonEl.style.display =\n",
              "          google.colab.kernel.accessAllowed ? 'block' : 'none';\n",
              "\n",
              "        async function convertToInteractive(key) {\n",
              "          const element = document.querySelector('#df-7d84a194-dbf2-4084-9733-160d65f3d447');\n",
              "          const dataTable =\n",
              "            await google.colab.kernel.invokeFunction('convertToInteractive',\n",
              "                                                     [key], {});\n",
              "          if (!dataTable) return;\n",
              "\n",
              "          const docLinkHtml = 'Like what you see? Visit the ' +\n",
              "            '<a target=\"_blank\" href=https://colab.research.google.com/notebooks/data_table.ipynb>data table notebook</a>'\n",
              "            + ' to learn more about interactive tables.';\n",
              "          element.innerHTML = '';\n",
              "          dataTable['output_type'] = 'display_data';\n",
              "          await google.colab.output.renderOutput(dataTable, element);\n",
              "          const docLink = document.createElement('div');\n",
              "          docLink.innerHTML = docLinkHtml;\n",
              "          element.appendChild(docLink);\n",
              "        }\n",
              "      </script>\n",
              "    </div>\n",
              "  </div>\n",
              "  "
            ]
          },
          "metadata": {},
          "execution_count": 10
        }
      ]
    },
    {
      "cell_type": "code",
      "metadata": {
        "id": "EW2l3yuIvJ2q",
        "colab": {
          "base_uri": "https://localhost:8080/",
          "height": 363
        },
        "outputId": "05ceceb2-a5a8-4305-8e2a-9c4b2a4596ec"
      },
      "source": [
        "train_df.head(10)"
      ],
      "execution_count": 11,
      "outputs": [
        {
          "output_type": "execute_result",
          "data": {
            "text/plain": [
              "   PassengerId  Survived  Pclass  \\\n",
              "0            1         0       3   \n",
              "1            2         1       1   \n",
              "2            3         1       3   \n",
              "3            4         1       1   \n",
              "4            5         0       3   \n",
              "5            6         0       3   \n",
              "6            7         0       1   \n",
              "7            8         0       3   \n",
              "8            9         1       3   \n",
              "9           10         1       2   \n",
              "\n",
              "                                                Name     Sex   Age  SibSp  \\\n",
              "0                            Braund, Mr. Owen Harris    male  22.0      1   \n",
              "1  Cumings, Mrs. John Bradley (Florence Briggs Th...  female  38.0      1   \n",
              "2                             Heikkinen, Miss. Laina  female  26.0      0   \n",
              "3       Futrelle, Mrs. Jacques Heath (Lily May Peel)  female  35.0      1   \n",
              "4                           Allen, Mr. William Henry    male  35.0      0   \n",
              "5                                   Moran, Mr. James    male   NaN      0   \n",
              "6                            McCarthy, Mr. Timothy J    male  54.0      0   \n",
              "7                     Palsson, Master. Gosta Leonard    male   2.0      3   \n",
              "8  Johnson, Mrs. Oscar W (Elisabeth Vilhelmina Berg)  female  27.0      0   \n",
              "9                Nasser, Mrs. Nicholas (Adele Achem)  female  14.0      1   \n",
              "\n",
              "   Parch            Ticket     Fare Cabin Embarked  \n",
              "0      0         A/5 21171   7.2500   NaN        S  \n",
              "1      0          PC 17599  71.2833   C85        C  \n",
              "2      0  STON/O2. 3101282   7.9250   NaN        S  \n",
              "3      0            113803  53.1000  C123        S  \n",
              "4      0            373450   8.0500   NaN        S  \n",
              "5      0            330877   8.4583   NaN        Q  \n",
              "6      0             17463  51.8625   E46        S  \n",
              "7      1            349909  21.0750   NaN        S  \n",
              "8      2            347742  11.1333   NaN        S  \n",
              "9      0            237736  30.0708   NaN        C  "
            ],
            "text/html": [
              "\n",
              "  <div id=\"df-6809dbe9-64ba-4cf6-ba9c-1d988a53ddb3\">\n",
              "    <div class=\"colab-df-container\">\n",
              "      <div>\n",
              "<style scoped>\n",
              "    .dataframe tbody tr th:only-of-type {\n",
              "        vertical-align: middle;\n",
              "    }\n",
              "\n",
              "    .dataframe tbody tr th {\n",
              "        vertical-align: top;\n",
              "    }\n",
              "\n",
              "    .dataframe thead th {\n",
              "        text-align: right;\n",
              "    }\n",
              "</style>\n",
              "<table border=\"1\" class=\"dataframe\">\n",
              "  <thead>\n",
              "    <tr style=\"text-align: right;\">\n",
              "      <th></th>\n",
              "      <th>PassengerId</th>\n",
              "      <th>Survived</th>\n",
              "      <th>Pclass</th>\n",
              "      <th>Name</th>\n",
              "      <th>Sex</th>\n",
              "      <th>Age</th>\n",
              "      <th>SibSp</th>\n",
              "      <th>Parch</th>\n",
              "      <th>Ticket</th>\n",
              "      <th>Fare</th>\n",
              "      <th>Cabin</th>\n",
              "      <th>Embarked</th>\n",
              "    </tr>\n",
              "  </thead>\n",
              "  <tbody>\n",
              "    <tr>\n",
              "      <th>0</th>\n",
              "      <td>1</td>\n",
              "      <td>0</td>\n",
              "      <td>3</td>\n",
              "      <td>Braund, Mr. Owen Harris</td>\n",
              "      <td>male</td>\n",
              "      <td>22.0</td>\n",
              "      <td>1</td>\n",
              "      <td>0</td>\n",
              "      <td>A/5 21171</td>\n",
              "      <td>7.2500</td>\n",
              "      <td>NaN</td>\n",
              "      <td>S</td>\n",
              "    </tr>\n",
              "    <tr>\n",
              "      <th>1</th>\n",
              "      <td>2</td>\n",
              "      <td>1</td>\n",
              "      <td>1</td>\n",
              "      <td>Cumings, Mrs. John Bradley (Florence Briggs Th...</td>\n",
              "      <td>female</td>\n",
              "      <td>38.0</td>\n",
              "      <td>1</td>\n",
              "      <td>0</td>\n",
              "      <td>PC 17599</td>\n",
              "      <td>71.2833</td>\n",
              "      <td>C85</td>\n",
              "      <td>C</td>\n",
              "    </tr>\n",
              "    <tr>\n",
              "      <th>2</th>\n",
              "      <td>3</td>\n",
              "      <td>1</td>\n",
              "      <td>3</td>\n",
              "      <td>Heikkinen, Miss. Laina</td>\n",
              "      <td>female</td>\n",
              "      <td>26.0</td>\n",
              "      <td>0</td>\n",
              "      <td>0</td>\n",
              "      <td>STON/O2. 3101282</td>\n",
              "      <td>7.9250</td>\n",
              "      <td>NaN</td>\n",
              "      <td>S</td>\n",
              "    </tr>\n",
              "    <tr>\n",
              "      <th>3</th>\n",
              "      <td>4</td>\n",
              "      <td>1</td>\n",
              "      <td>1</td>\n",
              "      <td>Futrelle, Mrs. Jacques Heath (Lily May Peel)</td>\n",
              "      <td>female</td>\n",
              "      <td>35.0</td>\n",
              "      <td>1</td>\n",
              "      <td>0</td>\n",
              "      <td>113803</td>\n",
              "      <td>53.1000</td>\n",
              "      <td>C123</td>\n",
              "      <td>S</td>\n",
              "    </tr>\n",
              "    <tr>\n",
              "      <th>4</th>\n",
              "      <td>5</td>\n",
              "      <td>0</td>\n",
              "      <td>3</td>\n",
              "      <td>Allen, Mr. William Henry</td>\n",
              "      <td>male</td>\n",
              "      <td>35.0</td>\n",
              "      <td>0</td>\n",
              "      <td>0</td>\n",
              "      <td>373450</td>\n",
              "      <td>8.0500</td>\n",
              "      <td>NaN</td>\n",
              "      <td>S</td>\n",
              "    </tr>\n",
              "    <tr>\n",
              "      <th>5</th>\n",
              "      <td>6</td>\n",
              "      <td>0</td>\n",
              "      <td>3</td>\n",
              "      <td>Moran, Mr. James</td>\n",
              "      <td>male</td>\n",
              "      <td>NaN</td>\n",
              "      <td>0</td>\n",
              "      <td>0</td>\n",
              "      <td>330877</td>\n",
              "      <td>8.4583</td>\n",
              "      <td>NaN</td>\n",
              "      <td>Q</td>\n",
              "    </tr>\n",
              "    <tr>\n",
              "      <th>6</th>\n",
              "      <td>7</td>\n",
              "      <td>0</td>\n",
              "      <td>1</td>\n",
              "      <td>McCarthy, Mr. Timothy J</td>\n",
              "      <td>male</td>\n",
              "      <td>54.0</td>\n",
              "      <td>0</td>\n",
              "      <td>0</td>\n",
              "      <td>17463</td>\n",
              "      <td>51.8625</td>\n",
              "      <td>E46</td>\n",
              "      <td>S</td>\n",
              "    </tr>\n",
              "    <tr>\n",
              "      <th>7</th>\n",
              "      <td>8</td>\n",
              "      <td>0</td>\n",
              "      <td>3</td>\n",
              "      <td>Palsson, Master. Gosta Leonard</td>\n",
              "      <td>male</td>\n",
              "      <td>2.0</td>\n",
              "      <td>3</td>\n",
              "      <td>1</td>\n",
              "      <td>349909</td>\n",
              "      <td>21.0750</td>\n",
              "      <td>NaN</td>\n",
              "      <td>S</td>\n",
              "    </tr>\n",
              "    <tr>\n",
              "      <th>8</th>\n",
              "      <td>9</td>\n",
              "      <td>1</td>\n",
              "      <td>3</td>\n",
              "      <td>Johnson, Mrs. Oscar W (Elisabeth Vilhelmina Berg)</td>\n",
              "      <td>female</td>\n",
              "      <td>27.0</td>\n",
              "      <td>0</td>\n",
              "      <td>2</td>\n",
              "      <td>347742</td>\n",
              "      <td>11.1333</td>\n",
              "      <td>NaN</td>\n",
              "      <td>S</td>\n",
              "    </tr>\n",
              "    <tr>\n",
              "      <th>9</th>\n",
              "      <td>10</td>\n",
              "      <td>1</td>\n",
              "      <td>2</td>\n",
              "      <td>Nasser, Mrs. Nicholas (Adele Achem)</td>\n",
              "      <td>female</td>\n",
              "      <td>14.0</td>\n",
              "      <td>1</td>\n",
              "      <td>0</td>\n",
              "      <td>237736</td>\n",
              "      <td>30.0708</td>\n",
              "      <td>NaN</td>\n",
              "      <td>C</td>\n",
              "    </tr>\n",
              "  </tbody>\n",
              "</table>\n",
              "</div>\n",
              "      <button class=\"colab-df-convert\" onclick=\"convertToInteractive('df-6809dbe9-64ba-4cf6-ba9c-1d988a53ddb3')\"\n",
              "              title=\"Convert this dataframe to an interactive table.\"\n",
              "              style=\"display:none;\">\n",
              "        \n",
              "  <svg xmlns=\"http://www.w3.org/2000/svg\" height=\"24px\"viewBox=\"0 0 24 24\"\n",
              "       width=\"24px\">\n",
              "    <path d=\"M0 0h24v24H0V0z\" fill=\"none\"/>\n",
              "    <path d=\"M18.56 5.44l.94 2.06.94-2.06 2.06-.94-2.06-.94-.94-2.06-.94 2.06-2.06.94zm-11 1L8.5 8.5l.94-2.06 2.06-.94-2.06-.94L8.5 2.5l-.94 2.06-2.06.94zm10 10l.94 2.06.94-2.06 2.06-.94-2.06-.94-.94-2.06-.94 2.06-2.06.94z\"/><path d=\"M17.41 7.96l-1.37-1.37c-.4-.4-.92-.59-1.43-.59-.52 0-1.04.2-1.43.59L10.3 9.45l-7.72 7.72c-.78.78-.78 2.05 0 2.83L4 21.41c.39.39.9.59 1.41.59.51 0 1.02-.2 1.41-.59l7.78-7.78 2.81-2.81c.8-.78.8-2.07 0-2.86zM5.41 20L4 18.59l7.72-7.72 1.47 1.35L5.41 20z\"/>\n",
              "  </svg>\n",
              "      </button>\n",
              "      \n",
              "  <style>\n",
              "    .colab-df-container {\n",
              "      display:flex;\n",
              "      flex-wrap:wrap;\n",
              "      gap: 12px;\n",
              "    }\n",
              "\n",
              "    .colab-df-convert {\n",
              "      background-color: #E8F0FE;\n",
              "      border: none;\n",
              "      border-radius: 50%;\n",
              "      cursor: pointer;\n",
              "      display: none;\n",
              "      fill: #1967D2;\n",
              "      height: 32px;\n",
              "      padding: 0 0 0 0;\n",
              "      width: 32px;\n",
              "    }\n",
              "\n",
              "    .colab-df-convert:hover {\n",
              "      background-color: #E2EBFA;\n",
              "      box-shadow: 0px 1px 2px rgba(60, 64, 67, 0.3), 0px 1px 3px 1px rgba(60, 64, 67, 0.15);\n",
              "      fill: #174EA6;\n",
              "    }\n",
              "\n",
              "    [theme=dark] .colab-df-convert {\n",
              "      background-color: #3B4455;\n",
              "      fill: #D2E3FC;\n",
              "    }\n",
              "\n",
              "    [theme=dark] .colab-df-convert:hover {\n",
              "      background-color: #434B5C;\n",
              "      box-shadow: 0px 1px 3px 1px rgba(0, 0, 0, 0.15);\n",
              "      filter: drop-shadow(0px 1px 2px rgba(0, 0, 0, 0.3));\n",
              "      fill: #FFFFFF;\n",
              "    }\n",
              "  </style>\n",
              "\n",
              "      <script>\n",
              "        const buttonEl =\n",
              "          document.querySelector('#df-6809dbe9-64ba-4cf6-ba9c-1d988a53ddb3 button.colab-df-convert');\n",
              "        buttonEl.style.display =\n",
              "          google.colab.kernel.accessAllowed ? 'block' : 'none';\n",
              "\n",
              "        async function convertToInteractive(key) {\n",
              "          const element = document.querySelector('#df-6809dbe9-64ba-4cf6-ba9c-1d988a53ddb3');\n",
              "          const dataTable =\n",
              "            await google.colab.kernel.invokeFunction('convertToInteractive',\n",
              "                                                     [key], {});\n",
              "          if (!dataTable) return;\n",
              "\n",
              "          const docLinkHtml = 'Like what you see? Visit the ' +\n",
              "            '<a target=\"_blank\" href=https://colab.research.google.com/notebooks/data_table.ipynb>data table notebook</a>'\n",
              "            + ' to learn more about interactive tables.';\n",
              "          element.innerHTML = '';\n",
              "          dataTable['output_type'] = 'display_data';\n",
              "          await google.colab.output.renderOutput(dataTable, element);\n",
              "          const docLink = document.createElement('div');\n",
              "          docLink.innerHTML = docLinkHtml;\n",
              "          element.appendChild(docLink);\n",
              "        }\n",
              "      </script>\n",
              "    </div>\n",
              "  </div>\n",
              "  "
            ]
          },
          "metadata": {},
          "execution_count": 11
        }
      ]
    },
    {
      "cell_type": "markdown",
      "metadata": {
        "id": "7h7PKBWuwTAR"
      },
      "source": [
        "The head of the data gives us an indication of various parameters that need to be converted into numeric form for prediction. "
      ]
    },
    {
      "cell_type": "code",
      "metadata": {
        "id": "6LsdW4ojwigB",
        "colab": {
          "base_uri": "https://localhost:8080/",
          "height": 206
        },
        "outputId": "9ae6188f-40e1-423c-964d-e4f44abbbde4"
      },
      "source": [
        "total = train_df.isnull().sum().sort_values(ascending=False)\n",
        "percent_1 = train_df.isnull().sum()/train_df.isnull().count()*100\n",
        "percent_2 = (round(percent_1, 1)).sort_values(ascending=False)\n",
        "missing_data = pd.concat([total, percent_2], axis=1, keys=['Total', '% missing'])\n",
        "missing_data.head(5)"
      ],
      "execution_count": 12,
      "outputs": [
        {
          "output_type": "execute_result",
          "data": {
            "text/plain": [
              "             Total  % missing\n",
              "Cabin          687       77.1\n",
              "Age            177       19.9\n",
              "Embarked         2        0.2\n",
              "PassengerId      0        0.0\n",
              "Survived         0        0.0"
            ],
            "text/html": [
              "\n",
              "  <div id=\"df-53a0ee3b-0462-451c-8e8f-1a7b9ddf48bb\">\n",
              "    <div class=\"colab-df-container\">\n",
              "      <div>\n",
              "<style scoped>\n",
              "    .dataframe tbody tr th:only-of-type {\n",
              "        vertical-align: middle;\n",
              "    }\n",
              "\n",
              "    .dataframe tbody tr th {\n",
              "        vertical-align: top;\n",
              "    }\n",
              "\n",
              "    .dataframe thead th {\n",
              "        text-align: right;\n",
              "    }\n",
              "</style>\n",
              "<table border=\"1\" class=\"dataframe\">\n",
              "  <thead>\n",
              "    <tr style=\"text-align: right;\">\n",
              "      <th></th>\n",
              "      <th>Total</th>\n",
              "      <th>% missing</th>\n",
              "    </tr>\n",
              "  </thead>\n",
              "  <tbody>\n",
              "    <tr>\n",
              "      <th>Cabin</th>\n",
              "      <td>687</td>\n",
              "      <td>77.1</td>\n",
              "    </tr>\n",
              "    <tr>\n",
              "      <th>Age</th>\n",
              "      <td>177</td>\n",
              "      <td>19.9</td>\n",
              "    </tr>\n",
              "    <tr>\n",
              "      <th>Embarked</th>\n",
              "      <td>2</td>\n",
              "      <td>0.2</td>\n",
              "    </tr>\n",
              "    <tr>\n",
              "      <th>PassengerId</th>\n",
              "      <td>0</td>\n",
              "      <td>0.0</td>\n",
              "    </tr>\n",
              "    <tr>\n",
              "      <th>Survived</th>\n",
              "      <td>0</td>\n",
              "      <td>0.0</td>\n",
              "    </tr>\n",
              "  </tbody>\n",
              "</table>\n",
              "</div>\n",
              "      <button class=\"colab-df-convert\" onclick=\"convertToInteractive('df-53a0ee3b-0462-451c-8e8f-1a7b9ddf48bb')\"\n",
              "              title=\"Convert this dataframe to an interactive table.\"\n",
              "              style=\"display:none;\">\n",
              "        \n",
              "  <svg xmlns=\"http://www.w3.org/2000/svg\" height=\"24px\"viewBox=\"0 0 24 24\"\n",
              "       width=\"24px\">\n",
              "    <path d=\"M0 0h24v24H0V0z\" fill=\"none\"/>\n",
              "    <path d=\"M18.56 5.44l.94 2.06.94-2.06 2.06-.94-2.06-.94-.94-2.06-.94 2.06-2.06.94zm-11 1L8.5 8.5l.94-2.06 2.06-.94-2.06-.94L8.5 2.5l-.94 2.06-2.06.94zm10 10l.94 2.06.94-2.06 2.06-.94-2.06-.94-.94-2.06-.94 2.06-2.06.94z\"/><path d=\"M17.41 7.96l-1.37-1.37c-.4-.4-.92-.59-1.43-.59-.52 0-1.04.2-1.43.59L10.3 9.45l-7.72 7.72c-.78.78-.78 2.05 0 2.83L4 21.41c.39.39.9.59 1.41.59.51 0 1.02-.2 1.41-.59l7.78-7.78 2.81-2.81c.8-.78.8-2.07 0-2.86zM5.41 20L4 18.59l7.72-7.72 1.47 1.35L5.41 20z\"/>\n",
              "  </svg>\n",
              "      </button>\n",
              "      \n",
              "  <style>\n",
              "    .colab-df-container {\n",
              "      display:flex;\n",
              "      flex-wrap:wrap;\n",
              "      gap: 12px;\n",
              "    }\n",
              "\n",
              "    .colab-df-convert {\n",
              "      background-color: #E8F0FE;\n",
              "      border: none;\n",
              "      border-radius: 50%;\n",
              "      cursor: pointer;\n",
              "      display: none;\n",
              "      fill: #1967D2;\n",
              "      height: 32px;\n",
              "      padding: 0 0 0 0;\n",
              "      width: 32px;\n",
              "    }\n",
              "\n",
              "    .colab-df-convert:hover {\n",
              "      background-color: #E2EBFA;\n",
              "      box-shadow: 0px 1px 2px rgba(60, 64, 67, 0.3), 0px 1px 3px 1px rgba(60, 64, 67, 0.15);\n",
              "      fill: #174EA6;\n",
              "    }\n",
              "\n",
              "    [theme=dark] .colab-df-convert {\n",
              "      background-color: #3B4455;\n",
              "      fill: #D2E3FC;\n",
              "    }\n",
              "\n",
              "    [theme=dark] .colab-df-convert:hover {\n",
              "      background-color: #434B5C;\n",
              "      box-shadow: 0px 1px 3px 1px rgba(0, 0, 0, 0.15);\n",
              "      filter: drop-shadow(0px 1px 2px rgba(0, 0, 0, 0.3));\n",
              "      fill: #FFFFFF;\n",
              "    }\n",
              "  </style>\n",
              "\n",
              "      <script>\n",
              "        const buttonEl =\n",
              "          document.querySelector('#df-53a0ee3b-0462-451c-8e8f-1a7b9ddf48bb button.colab-df-convert');\n",
              "        buttonEl.style.display =\n",
              "          google.colab.kernel.accessAllowed ? 'block' : 'none';\n",
              "\n",
              "        async function convertToInteractive(key) {\n",
              "          const element = document.querySelector('#df-53a0ee3b-0462-451c-8e8f-1a7b9ddf48bb');\n",
              "          const dataTable =\n",
              "            await google.colab.kernel.invokeFunction('convertToInteractive',\n",
              "                                                     [key], {});\n",
              "          if (!dataTable) return;\n",
              "\n",
              "          const docLinkHtml = 'Like what you see? Visit the ' +\n",
              "            '<a target=\"_blank\" href=https://colab.research.google.com/notebooks/data_table.ipynb>data table notebook</a>'\n",
              "            + ' to learn more about interactive tables.';\n",
              "          element.innerHTML = '';\n",
              "          dataTable['output_type'] = 'display_data';\n",
              "          await google.colab.output.renderOutput(dataTable, element);\n",
              "          const docLink = document.createElement('div');\n",
              "          docLink.innerHTML = docLinkHtml;\n",
              "          element.appendChild(docLink);\n",
              "        }\n",
              "      </script>\n",
              "    </div>\n",
              "  </div>\n",
              "  "
            ]
          },
          "metadata": {},
          "execution_count": 12
        }
      ]
    },
    {
      "cell_type": "markdown",
      "metadata": {
        "id": "LHm7kQY8w7Zs"
      },
      "source": [
        "From above data, we can make following inferences:\n",
        "\n",
        "1. Around 77% of cabin data is missing. This % is huge. So, we can't afford to drop data row-wise. It's better to delete this column entirely since majority values are missing anyways.\n",
        "\n",
        "2. Embarked value can be easily filled.\n",
        "\n",
        "3. With some common sense, we can eliminate variables like PassengerId, Name and Ticket as we don't expect them to have much corelation with survival chance."
      ]
    },
    {
      "cell_type": "code",
      "metadata": {
        "id": "GiygRG_X2GXR"
      },
      "source": [
        "train_df = train_df.drop(['PassengerId','Cabin'], axis=1)\n",
        "train_df = train_df.drop(['Ticket','Name'], axis=1)\n",
        "\n",
        "test_df = test_df.drop(['Ticket','Name'], axis=1)"
      ],
      "execution_count": 13,
      "outputs": []
    },
    {
      "cell_type": "markdown",
      "source": [
        "Relation with Gender"
      ],
      "metadata": {
        "id": "dkGjS0m735lm"
      }
    },
    {
      "cell_type": "code",
      "metadata": {
        "id": "Vr0zZm8mPZFu",
        "colab": {
          "base_uri": "https://localhost:8080/",
          "height": 295
        },
        "outputId": "acc4fff6-a2bb-4e19-fc8f-392835195b8d"
      },
      "source": [
        "survived = 'survived'\n",
        "not_survived = 'not survived'\n",
        "fig, axes = plt.subplots(nrows=1, ncols=2,figsize=(10, 4))\n",
        "women = train_df[train_df['Sex']=='female']\n",
        "men = train_df[train_df['Sex']=='male']\n",
        "ax = sns.distplot(women[women['Survived']==1].Age.dropna(), bins=18, label = survived, ax = axes[0], kde =False)\n",
        "ax = sns.distplot(women[women['Survived']==0].Age.dropna(), bins=40, label = not_survived, ax = axes[0], kde =False)\n",
        "ax.legend()\n",
        "ax.set_title('Female')\n",
        "ax = sns.distplot(men[men['Survived']==1].Age.dropna(), bins=18, label = survived, ax = axes[1], kde = False)\n",
        "ax = sns.distplot(men[men['Survived']==0].Age.dropna(), bins=40, label = not_survived, ax = axes[1], kde = False)\n",
        "ax.legend()\n",
        "_ = ax.set_title('Male')"
      ],
      "execution_count": 14,
      "outputs": [
        {
          "output_type": "display_data",
          "data": {
            "text/plain": [
              "<Figure size 720x288 with 2 Axes>"
            ],
            "image/png": "[encoded data removed]"
          },
          "metadata": {
            "needs_background": "light"
          }
        }
      ]
    },
    {
      "cell_type": "markdown",
      "source": [
        "Relation with Class"
      ],
      "metadata": {
        "id": "MVGrORVj4G5f"
      }
    },
    {
      "cell_type": "code",
      "metadata": {
        "id": "GFJX-UZD1jNe",
        "colab": {
          "base_uri": "https://localhost:8080/",
          "height": 296
        },
        "outputId": "e5fa75cd-e813-4088-a8b6-bb5a1b324687"
      },
      "source": [
        "sns.barplot(x='Pclass', y='Survived', data=train_df)"
      ],
      "execution_count": 15,
      "outputs": [
        {
          "output_type": "execute_result",
          "data": {
            "text/plain": [
              "<matplotlib.axes._subplots.AxesSubplot at 0x7f0c0f829250>"
            ]
          },
          "metadata": {},
          "execution_count": 15
        },
        {
          "output_type": "display_data",
          "data": {
            "text/plain": [
              "<Figure size 432x288 with 1 Axes>"
            ],
            "image/png": "[encoded data removed]"
          },
          "metadata": {
            "needs_background": "light"
          }
        }
      ]
    },
    {
      "cell_type": "markdown",
      "source": [
        "Alone or Not"
      ],
      "metadata": {
        "id": "ZLUXto2M6qm5"
      }
    },
    {
      "cell_type": "code",
      "metadata": {
        "id": "nKYfbR-N1vsd",
        "colab": {
          "base_uri": "https://localhost:8080/"
        },
        "outputId": "9fe9cb83-1891-4e6e-9281-b30adb7f558a"
      },
      "source": [
        "#Combining SibSp and Parch to show if someone is alone or not\n",
        "data = [train_df, test_df]\n",
        "for dataset in data:\n",
        "    #SibSp = Siblings / Spouses aboard the Titanic\n",
        "    #Parch = Parents / Children aboard the Titanic\n",
        "    dataset['relatives'] = dataset['SibSp'] + dataset['Parch']\n",
        "    dataset.loc[dataset['relatives'] > 0, 'not_alone'] = 0\n",
        "    dataset.loc[dataset['relatives'] == 0, 'not_alone'] = 1\n",
        "    dataset['not_alone'] = dataset['not_alone'].astype(int)\n",
        "train_df['not_alone'].value_counts()"
      ],
      "execution_count": 16,
      "outputs": [
        {
          "output_type": "execute_result",
          "data": {
            "text/plain": [
              "1    537\n",
              "0    354\n",
              "Name: not_alone, dtype: int64"
            ]
          },
          "metadata": {},
          "execution_count": 16
        }
      ]
    },
    {
      "cell_type": "markdown",
      "source": [
        "####Filling in the Missing Age"
      ],
      "metadata": {
        "id": "9I-yEmZl6y-w"
      }
    },
    {
      "cell_type": "code",
      "metadata": {
        "id": "L_iMmf8W2wQp",
        "colab": {
          "base_uri": "https://localhost:8080/"
        },
        "outputId": "3aeb0e6f-3858-4635-e7c5-4c01abea7fc1"
      },
      "source": [
        "data = [train_df, test_df]\n",
        "print(\"Number of NULL values BEFORE:\\t\",train_df[\"Age\"].isnull().sum())\n",
        "\n",
        "for dataset in data:\n",
        "    mean = train_df[\"Age\"].mean()\n",
        "    std = test_df[\"Age\"].std()\n",
        "    is_null = dataset[\"Age\"].isnull().sum()\n",
        "    # compute random numbers between the mean, std and is_null\n",
        "    rand_age = np.random.randint(mean - std, mean + std, size = is_null)\n",
        "    # fill NaN values in Age column with random values generated\n",
        "    age_slice = dataset[\"Age\"].copy()\n",
        "    age_slice[np.isnan(age_slice)] = rand_age\n",
        "    dataset[\"Age\"] = age_slice\n",
        "    dataset[\"Age\"] = train_df[\"Age\"].astype(int)\n",
        "\n",
        "print(\"Number of NULL values AFTER:\\t\",train_df[\"Age\"].isnull().sum())"
      ],
      "execution_count": 17,
      "outputs": [
        {
          "output_type": "stream",
          "name": "stdout",
          "text": [
            "Number of NULL values BEFORE:\t 177\n",
            "Number of NULL values AFTER:\t 0\n"
          ]
        }
      ]
    },
    {
      "cell_type": "markdown",
      "source": [
        "####Filling in Embarked Values"
      ],
      "metadata": {
        "id": "iiQ2u1EG_DLU"
      }
    },
    {
      "cell_type": "code",
      "metadata": {
        "id": "9oiazbi23F3i",
        "colab": {
          "base_uri": "https://localhost:8080/"
        },
        "outputId": "5d58a5a7-8986-4273-d218-0b04d36c12a7"
      },
      "source": [
        "train_df['Embarked'].describe()"
      ],
      "execution_count": 18,
      "outputs": [
        {
          "output_type": "execute_result",
          "data": {
            "text/plain": [
              "count     889\n",
              "unique      3\n",
              "top         S\n",
              "freq      644\n",
              "Name: Embarked, dtype: object"
            ]
          },
          "metadata": {},
          "execution_count": 18
        }
      ]
    },
    {
      "cell_type": "code",
      "metadata": {
        "id": "91r6YkKR3NJU"
      },
      "source": [
        "#Giving Missing Embarked Values as 'S' as it is the most likely value\n",
        "\n",
        "common_value = 'S'\n",
        "data = [train_df, test_df]\n",
        "\n",
        "for dataset in data:\n",
        "    dataset['Embarked'] = dataset['Embarked'].fillna(common_value)"
      ],
      "execution_count": 19,
      "outputs": []
    },
    {
      "cell_type": "code",
      "metadata": {
        "id": "2feOofoi3P3K",
        "colab": {
          "base_uri": "https://localhost:8080/"
        },
        "outputId": "e433cd4d-15e5-4029-f4ed-eb3ef9ac2b9e"
      },
      "source": [
        "train_df.info()"
      ],
      "execution_count": 20,
      "outputs": [
        {
          "output_type": "stream",
          "name": "stdout",
          "text": [
            "<class 'pandas.core.frame.DataFrame'>\n",
            "RangeIndex: 891 entries, 0 to 890\n",
            "Data columns (total 10 columns):\n",
            " #   Column     Non-Null Count  Dtype  \n",
            "---  ------     --------------  -----  \n",
            " 0   Survived   891 non-null    int64  \n",
            " 1   Pclass     891 non-null    int64  \n",
            " 2   Sex        891 non-null    object \n",
            " 3   Age        891 non-null    int64  \n",
            " 4   SibSp      891 non-null    int64  \n",
            " 5   Parch      891 non-null    int64  \n",
            " 6   Fare       891 non-null    float64\n",
            " 7   Embarked   891 non-null    object \n",
            " 8   relatives  891 non-null    int64  \n",
            " 9   not_alone  891 non-null    int64  \n",
            "dtypes: float64(1), int64(7), object(2)\n",
            "memory usage: 69.7+ KB\n"
          ]
        }
      ]
    },
    {
      "cell_type": "markdown",
      "source": [
        "####Assigning Integral Values"
      ],
      "metadata": {
        "id": "3RXsU-C0_pvj"
      }
    },
    {
      "cell_type": "markdown",
      "source": [
        "Gender"
      ],
      "metadata": {
        "id": "iOaCa2ZeALCe"
      }
    },
    {
      "cell_type": "code",
      "metadata": {
        "id": "QZhOp69G38gC"
      },
      "source": [
        "genders = {\"male\": 0, \"female\": 1}\n",
        "data = [train_df, test_df]\n",
        "\n",
        "for dataset in data:\n",
        "    dataset['Sex'] = dataset['Sex'].map(genders)"
      ],
      "execution_count": 21,
      "outputs": []
    },
    {
      "cell_type": "markdown",
      "source": [
        "Port"
      ],
      "metadata": {
        "id": "PL3LB-O5AOOP"
      }
    },
    {
      "cell_type": "code",
      "metadata": {
        "id": "USyX_tSg4C9N"
      },
      "source": [
        "ports = {\"S\": 0, \"C\": 1, \"Q\": 2}\n",
        "data = [train_df, test_df]\n",
        "\n",
        "for dataset in data:\n",
        "    dataset['Embarked'] = dataset['Embarked'].map(ports)"
      ],
      "execution_count": 22,
      "outputs": []
    },
    {
      "cell_type": "markdown",
      "source": [
        "Age"
      ],
      "metadata": {
        "id": "QRtX3VPIAPLl"
      }
    },
    {
      "cell_type": "code",
      "metadata": {
        "id": "ApXleNFj4Df1",
        "colab": {
          "base_uri": "https://localhost:8080/"
        },
        "outputId": "d77b0e28-25b0-4656-b6c9-e51b797efd56"
      },
      "source": [
        "data = [train_df, test_df]\n",
        "for dataset in data:\n",
        "    dataset['Age'] = dataset['Age'].astype(int)\n",
        "    dataset.loc[ dataset['Age'] <= 11, 'Age'] = 0\n",
        "    dataset.loc[(dataset['Age'] > 11) & (dataset['Age'] <= 18), 'Age'] = 1\n",
        "    dataset.loc[(dataset['Age'] > 18) & (dataset['Age'] <= 22), 'Age'] = 2\n",
        "    dataset.loc[(dataset['Age'] > 22) & (dataset['Age'] <= 27), 'Age'] = 3\n",
        "    dataset.loc[(dataset['Age'] > 27) & (dataset['Age'] <= 33), 'Age'] = 4\n",
        "    dataset.loc[(dataset['Age'] > 33) & (dataset['Age'] <= 40), 'Age'] = 5\n",
        "    dataset.loc[(dataset['Age'] > 40) & (dataset['Age'] <= 66), 'Age'] = 6\n",
        "    dataset.loc[ dataset['Age'] > 66, 'Age'] = 6\n",
        "\n",
        "# let's see how it's distributed \n",
        "train_df['Age'].value_counts()"
      ],
      "execution_count": 23,
      "outputs": [
        {
          "output_type": "execute_result",
          "data": {
            "text/plain": [
              "4    167\n",
              "6    158\n",
              "5    147\n",
              "3    143\n",
              "2    115\n",
              "1     93\n",
              "0     68\n",
              "Name: Age, dtype: int64"
            ]
          },
          "metadata": {},
          "execution_count": 23
        }
      ]
    },
    {
      "cell_type": "code",
      "metadata": {
        "id": "H8sr8fSz4rbt",
        "colab": {
          "base_uri": "https://localhost:8080/",
          "height": 363
        },
        "outputId": "50cce300-3198-47ec-9210-cdff544475d1"
      },
      "source": [
        "train_df.head(10)"
      ],
      "execution_count": 24,
      "outputs": [
        {
          "output_type": "execute_result",
          "data": {
            "text/plain": [
              "   Survived  Pclass  Sex  Age  SibSp  Parch     Fare  Embarked  relatives  \\\n",
              "0         0       3    0    2      1      0   7.2500         0          1   \n",
              "1         1       1    1    5      1      0  71.2833         1          1   \n",
              "2         1       3    1    3      0      0   7.9250         0          0   \n",
              "3         1       1    1    5      1      0  53.1000         0          1   \n",
              "4         0       3    0    5      0      0   8.0500         0          0   \n",
              "5         0       3    0    2      0      0   8.4583         2          0   \n",
              "6         0       1    0    6      0      0  51.8625         0          0   \n",
              "7         0       3    0    0      3      1  21.0750         0          4   \n",
              "8         1       3    1    3      0      2  11.1333         0          2   \n",
              "9         1       2    1    1      1      0  30.0708         1          1   \n",
              "\n",
              "   not_alone  \n",
              "0          0  \n",
              "1          0  \n",
              "2          1  \n",
              "3          0  \n",
              "4          1  \n",
              "5          1  \n",
              "6          1  \n",
              "7          0  \n",
              "8          0  \n",
              "9          0  "
            ],
            "text/html": [
              "\n",
              "  <div id=\"df-ecf28c24-2972-4495-a517-dfae617cf234\">\n",
              "    <div class=\"colab-df-container\">\n",
              "      <div>\n",
              "<style scoped>\n",
              "    .dataframe tbody tr th:only-of-type {\n",
              "        vertical-align: middle;\n",
              "    }\n",
              "\n",
              "    .dataframe tbody tr th {\n",
              "        vertical-align: top;\n",
              "    }\n",
              "\n",
              "    .dataframe thead th {\n",
              "        text-align: right;\n",
              "    }\n",
              "</style>\n",
              "<table border=\"1\" class=\"dataframe\">\n",
              "  <thead>\n",
              "    <tr style=\"text-align: right;\">\n",
              "      <th></th>\n",
              "      <th>Survived</th>\n",
              "      <th>Pclass</th>\n",
              "      <th>Sex</th>\n",
              "      <th>Age</th>\n",
              "      <th>SibSp</th>\n",
              "      <th>Parch</th>\n",
              "      <th>Fare</th>\n",
              "      <th>Embarked</th>\n",
              "      <th>relatives</th>\n",
              "      <th>not_alone</th>\n",
              "    </tr>\n",
              "  </thead>\n",
              "  <tbody>\n",
              "    <tr>\n",
              "      <th>0</th>\n",
              "      <td>0</td>\n",
              "      <td>3</td>\n",
              "      <td>0</td>\n",
              "      <td>2</td>\n",
              "      <td>1</td>\n",
              "      <td>0</td>\n",
              "      <td>7.2500</td>\n",
              "      <td>0</td>\n",
              "      <td>1</td>\n",
              "      <td>0</td>\n",
              "    </tr>\n",
              "    <tr>\n",
              "      <th>1</th>\n",
              "      <td>1</td>\n",
              "      <td>1</td>\n",
              "      <td>1</td>\n",
              "      <td>5</td>\n",
              "      <td>1</td>\n",
              "      <td>0</td>\n",
              "      <td>71.2833</td>\n",
              "      <td>1</td>\n",
              "      <td>1</td>\n",
              "      <td>0</td>\n",
              "    </tr>\n",
              "    <tr>\n",
              "      <th>2</th>\n",
              "      <td>1</td>\n",
              "      <td>3</td>\n",
              "      <td>1</td>\n",
              "      <td>3</td>\n",
              "      <td>0</td>\n",
              "      <td>0</td>\n",
              "      <td>7.9250</td>\n",
              "      <td>0</td>\n",
              "      <td>0</td>\n",
              "      <td>1</td>\n",
              "    </tr>\n",
              "    <tr>\n",
              "      <th>3</th>\n",
              "      <td>1</td>\n",
              "      <td>1</td>\n",
              "      <td>1</td>\n",
              "      <td>5</td>\n",
              "      <td>1</td>\n",
              "      <td>0</td>\n",
              "      <td>53.1000</td>\n",
              "      <td>0</td>\n",
              "      <td>1</td>\n",
              "      <td>0</td>\n",
              "    </tr>\n",
              "    <tr>\n",
              "      <th>4</th>\n",
              "      <td>0</td>\n",
              "      <td>3</td>\n",
              "      <td>0</td>\n",
              "      <td>5</td>\n",
              "      <td>0</td>\n",
              "      <td>0</td>\n",
              "      <td>8.0500</td>\n",
              "      <td>0</td>\n",
              "      <td>0</td>\n",
              "      <td>1</td>\n",
              "    </tr>\n",
              "    <tr>\n",
              "      <th>5</th>\n",
              "      <td>0</td>\n",
              "      <td>3</td>\n",
              "      <td>0</td>\n",
              "      <td>2</td>\n",
              "      <td>0</td>\n",
              "      <td>0</td>\n",
              "      <td>8.4583</td>\n",
              "      <td>2</td>\n",
              "      <td>0</td>\n",
              "      <td>1</td>\n",
              "    </tr>\n",
              "    <tr>\n",
              "      <th>6</th>\n",
              "      <td>0</td>\n",
              "      <td>1</td>\n",
              "      <td>0</td>\n",
              "      <td>6</td>\n",
              "      <td>0</td>\n",
              "      <td>0</td>\n",
              "      <td>51.8625</td>\n",
              "      <td>0</td>\n",
              "      <td>0</td>\n",
              "      <td>1</td>\n",
              "    </tr>\n",
              "    <tr>\n",
              "      <th>7</th>\n",
              "      <td>0</td>\n",
              "      <td>3</td>\n",
              "      <td>0</td>\n",
              "      <td>0</td>\n",
              "      <td>3</td>\n",
              "      <td>1</td>\n",
              "      <td>21.0750</td>\n",
              "      <td>0</td>\n",
              "      <td>4</td>\n",
              "      <td>0</td>\n",
              "    </tr>\n",
              "    <tr>\n",
              "      <th>8</th>\n",
              "      <td>1</td>\n",
              "      <td>3</td>\n",
              "      <td>1</td>\n",
              "      <td>3</td>\n",
              "      <td>0</td>\n",
              "      <td>2</td>\n",
              "      <td>11.1333</td>\n",
              "      <td>0</td>\n",
              "      <td>2</td>\n",
              "      <td>0</td>\n",
              "    </tr>\n",
              "    <tr>\n",
              "      <th>9</th>\n",
              "      <td>1</td>\n",
              "      <td>2</td>\n",
              "      <td>1</td>\n",
              "      <td>1</td>\n",
              "      <td>1</td>\n",
              "      <td>0</td>\n",
              "      <td>30.0708</td>\n",
              "      <td>1</td>\n",
              "      <td>1</td>\n",
              "      <td>0</td>\n",
              "    </tr>\n",
              "  </tbody>\n",
              "</table>\n",
              "</div>\n",
              "      <button class=\"colab-df-convert\" onclick=\"convertToInteractive('df-ecf28c24-2972-4495-a517-dfae617cf234')\"\n",
              "              title=\"Convert this dataframe to an interactive table.\"\n",
              "              style=\"display:none;\">\n",
              "        \n",
              "  <svg xmlns=\"http://www.w3.org/2000/svg\" height=\"24px\"viewBox=\"0 0 24 24\"\n",
              "       width=\"24px\">\n",
              "    <path d=\"M0 0h24v24H0V0z\" fill=\"none\"/>\n",
              "    <path d=\"M18.56 5.44l.94 2.06.94-2.06 2.06-.94-2.06-.94-.94-2.06-.94 2.06-2.06.94zm-11 1L8.5 8.5l.94-2.06 2.06-.94-2.06-.94L8.5 2.5l-.94 2.06-2.06.94zm10 10l.94 2.06.94-2.06 2.06-.94-2.06-.94-.94-2.06-.94 2.06-2.06.94z\"/><path d=\"M17.41 7.96l-1.37-1.37c-.4-.4-.92-.59-1.43-.59-.52 0-1.04.2-1.43.59L10.3 9.45l-7.72 7.72c-.78.78-.78 2.05 0 2.83L4 21.41c.39.39.9.59 1.41.59.51 0 1.02-.2 1.41-.59l7.78-7.78 2.81-2.81c.8-.78.8-2.07 0-2.86zM5.41 20L4 18.59l7.72-7.72 1.47 1.35L5.41 20z\"/>\n",
              "  </svg>\n",
              "      </button>\n",
              "      \n",
              "  <style>\n",
              "    .colab-df-container {\n",
              "      display:flex;\n",
              "      flex-wrap:wrap;\n",
              "      gap: 12px;\n",
              "    }\n",
              "\n",
              "    .colab-df-convert {\n",
              "      background-color: #E8F0FE;\n",
              "      border: none;\n",
              "      border-radius: 50%;\n",
              "      cursor: pointer;\n",
              "      display: none;\n",
              "      fill: #1967D2;\n",
              "      height: 32px;\n",
              "      padding: 0 0 0 0;\n",
              "      width: 32px;\n",
              "    }\n",
              "\n",
              "    .colab-df-convert:hover {\n",
              "      background-color: #E2EBFA;\n",
              "      box-shadow: 0px 1px 2px rgba(60, 64, 67, 0.3), 0px 1px 3px 1px rgba(60, 64, 67, 0.15);\n",
              "      fill: #174EA6;\n",
              "    }\n",
              "\n",
              "    [theme=dark] .colab-df-convert {\n",
              "      background-color: #3B4455;\n",
              "      fill: #D2E3FC;\n",
              "    }\n",
              "\n",
              "    [theme=dark] .colab-df-convert:hover {\n",
              "      background-color: #434B5C;\n",
              "      box-shadow: 0px 1px 3px 1px rgba(0, 0, 0, 0.15);\n",
              "      filter: drop-shadow(0px 1px 2px rgba(0, 0, 0, 0.3));\n",
              "      fill: #FFFFFF;\n",
              "    }\n",
              "  </style>\n",
              "\n",
              "      <script>\n",
              "        const buttonEl =\n",
              "          document.querySelector('#df-ecf28c24-2972-4495-a517-dfae617cf234 button.colab-df-convert');\n",
              "        buttonEl.style.display =\n",
              "          google.colab.kernel.accessAllowed ? 'block' : 'none';\n",
              "\n",
              "        async function convertToInteractive(key) {\n",
              "          const element = document.querySelector('#df-ecf28c24-2972-4495-a517-dfae617cf234');\n",
              "          const dataTable =\n",
              "            await google.colab.kernel.invokeFunction('convertToInteractive',\n",
              "                                                     [key], {});\n",
              "          if (!dataTable) return;\n",
              "\n",
              "          const docLinkHtml = 'Like what you see? Visit the ' +\n",
              "            '<a target=\"_blank\" href=https://colab.research.google.com/notebooks/data_table.ipynb>data table notebook</a>'\n",
              "            + ' to learn more about interactive tables.';\n",
              "          element.innerHTML = '';\n",
              "          dataTable['output_type'] = 'display_data';\n",
              "          await google.colab.output.renderOutput(dataTable, element);\n",
              "          const docLink = document.createElement('div');\n",
              "          docLink.innerHTML = docLinkHtml;\n",
              "          element.appendChild(docLink);\n",
              "        }\n",
              "      </script>\n",
              "    </div>\n",
              "  </div>\n",
              "  "
            ]
          },
          "metadata": {},
          "execution_count": 24
        }
      ]
    },
    {
      "cell_type": "code",
      "source": [
        "test_df"
      ],
      "metadata": {
        "colab": {
          "base_uri": "https://localhost:8080/",
          "height": 424
        },
        "id": "4rcqZXDUeVQ1",
        "outputId": "a5f922ea-cef4-4182-9736-acf269838a71"
      },
      "execution_count": 25,
      "outputs": [
        {
          "output_type": "execute_result",
          "data": {
            "text/plain": [
              "     PassengerId  Pclass  Sex  Age  SibSp  Parch      Fare Cabin  Embarked  \\\n",
              "0            892       3    0    2      0      0    7.8292   NaN         2   \n",
              "1            893       3    1    5      1      0    7.0000   NaN         0   \n",
              "2            894       2    0    3      0      0    9.6875   NaN         2   \n",
              "3            895       3    0    5      0      0    8.6625   NaN         0   \n",
              "4            896       3    1    5      1      1   12.2875   NaN         0   \n",
              "..           ...     ...  ...  ...    ...    ...       ...   ...       ...   \n",
              "413         1305       3    0    5      0      0    8.0500   NaN         0   \n",
              "414         1306       1    1    6      0      0  108.9000  C105         1   \n",
              "415         1307       3    0    3      0      0    7.2500   NaN         0   \n",
              "416         1308       3    0    5      0      0    8.0500   NaN         0   \n",
              "417         1309       3    0    1      1      1   22.3583   NaN         1   \n",
              "\n",
              "     relatives  not_alone  \n",
              "0            0          1  \n",
              "1            1          0  \n",
              "2            0          1  \n",
              "3            0          1  \n",
              "4            2          0  \n",
              "..         ...        ...  \n",
              "413          0          1  \n",
              "414          0          1  \n",
              "415          0          1  \n",
              "416          0          1  \n",
              "417          2          0  \n",
              "\n",
              "[418 rows x 11 columns]"
            ],
            "text/html": [
              "\n",
              "  <div id=\"df-1f59b216-c197-465b-b467-7b9fc2635a8a\">\n",
              "    <div class=\"colab-df-container\">\n",
              "      <div>\n",
              "<style scoped>\n",
              "    .dataframe tbody tr th:only-of-type {\n",
              "        vertical-align: middle;\n",
              "    }\n",
              "\n",
              "    .dataframe tbody tr th {\n",
              "        vertical-align: top;\n",
              "    }\n",
              "\n",
              "    .dataframe thead th {\n",
              "        text-align: right;\n",
              "    }\n",
              "</style>\n",
              "<table border=\"1\" class=\"dataframe\">\n",
              "  <thead>\n",
              "    <tr style=\"text-align: right;\">\n",
              "      <th></th>\n",
              "      <th>PassengerId</th>\n",
              "      <th>Pclass</th>\n",
              "      <th>Sex</th>\n",
              "      <th>Age</th>\n",
              "      <th>SibSp</th>\n",
              "      <th>Parch</th>\n",
              "      <th>Fare</th>\n",
              "      <th>Cabin</th>\n",
              "      <th>Embarked</th>\n",
              "      <th>relatives</th>\n",
              "      <th>not_alone</th>\n",
              "    </tr>\n",
              "  </thead>\n",
              "  <tbody>\n",
              "    <tr>\n",
              "      <th>0</th>\n",
              "      <td>892</td>\n",
              "      <td>3</td>\n",
              "      <td>0</td>\n",
              "      <td>2</td>\n",
              "      <td>0</td>\n",
              "      <td>0</td>\n",
              "      <td>7.8292</td>\n",
              "      <td>NaN</td>\n",
              "      <td>2</td>\n",
              "      <td>0</td>\n",
              "      <td>1</td>\n",
              "    </tr>\n",
              "    <tr>\n",
              "      <th>1</th>\n",
              "      <td>893</td>\n",
              "      <td>3</td>\n",
              "      <td>1</td>\n",
              "      <td>5</td>\n",
              "      <td>1</td>\n",
              "      <td>0</td>\n",
              "      <td>7.0000</td>\n",
              "      <td>NaN</td>\n",
              "      <td>0</td>\n",
              "      <td>1</td>\n",
              "      <td>0</td>\n",
              "    </tr>\n",
              "    <tr>\n",
              "      <th>2</th>\n",
              "      <td>894</td>\n",
              "      <td>2</td>\n",
              "      <td>0</td>\n",
              "      <td>3</td>\n",
              "      <td>0</td>\n",
              "      <td>0</td>\n",
              "      <td>9.6875</td>\n",
              "      <td>NaN</td>\n",
              "      <td>2</td>\n",
              "      <td>0</td>\n",
              "      <td>1</td>\n",
              "    </tr>\n",
              "    <tr>\n",
              "      <th>3</th>\n",
              "      <td>895</td>\n",
              "      <td>3</td>\n",
              "      <td>0</td>\n",
              "      <td>5</td>\n",
              "      <td>0</td>\n",
              "      <td>0</td>\n",
              "      <td>8.6625</td>\n",
              "      <td>NaN</td>\n",
              "      <td>0</td>\n",
              "      <td>0</td>\n",
              "      <td>1</td>\n",
              "    </tr>\n",
              "    <tr>\n",
              "      <th>4</th>\n",
              "      <td>896</td>\n",
              "      <td>3</td>\n",
              "      <td>1</td>\n",
              "      <td>5</td>\n",
              "      <td>1</td>\n",
              "      <td>1</td>\n",
              "      <td>12.2875</td>\n",
              "      <td>NaN</td>\n",
              "      <td>0</td>\n",
              "      <td>2</td>\n",
              "      <td>0</td>\n",
              "    </tr>\n",
              "    <tr>\n",
              "      <th>...</th>\n",
              "      <td>...</td>\n",
              "      <td>...</td>\n",
              "      <td>...</td>\n",
              "      <td>...</td>\n",
              "      <td>...</td>\n",
              "      <td>...</td>\n",
              "      <td>...</td>\n",
              "      <td>...</td>\n",
              "      <td>...</td>\n",
              "      <td>...</td>\n",
              "      <td>...</td>\n",
              "    </tr>\n",
              "    <tr>\n",
              "      <th>413</th>\n",
              "      <td>1305</td>\n",
              "      <td>3</td>\n",
              "      <td>0</td>\n",
              "      <td>5</td>\n",
              "      <td>0</td>\n",
              "      <td>0</td>\n",
              "      <td>8.0500</td>\n",
              "      <td>NaN</td>\n",
              "      <td>0</td>\n",
              "      <td>0</td>\n",
              "      <td>1</td>\n",
              "    </tr>\n",
              "    <tr>\n",
              "      <th>414</th>\n",
              "      <td>1306</td>\n",
              "      <td>1</td>\n",
              "      <td>1</td>\n",
              "      <td>6</td>\n",
              "      <td>0</td>\n",
              "      <td>0</td>\n",
              "      <td>108.9000</td>\n",
              "      <td>C105</td>\n",
              "      <td>1</td>\n",
              "      <td>0</td>\n",
              "      <td>1</td>\n",
              "    </tr>\n",
              "    <tr>\n",
              "      <th>415</th>\n",
              "      <td>1307</td>\n",
              "      <td>3</td>\n",
              "      <td>0</td>\n",
              "      <td>3</td>\n",
              "      <td>0</td>\n",
              "      <td>0</td>\n",
              "      <td>7.2500</td>\n",
              "      <td>NaN</td>\n",
              "      <td>0</td>\n",
              "      <td>0</td>\n",
              "      <td>1</td>\n",
              "    </tr>\n",
              "    <tr>\n",
              "      <th>416</th>\n",
              "      <td>1308</td>\n",
              "      <td>3</td>\n",
              "      <td>0</td>\n",
              "      <td>5</td>\n",
              "      <td>0</td>\n",
              "      <td>0</td>\n",
              "      <td>8.0500</td>\n",
              "      <td>NaN</td>\n",
              "      <td>0</td>\n",
              "      <td>0</td>\n",
              "      <td>1</td>\n",
              "    </tr>\n",
              "    <tr>\n",
              "      <th>417</th>\n",
              "      <td>1309</td>\n",
              "      <td>3</td>\n",
              "      <td>0</td>\n",
              "      <td>1</td>\n",
              "      <td>1</td>\n",
              "      <td>1</td>\n",
              "      <td>22.3583</td>\n",
              "      <td>NaN</td>\n",
              "      <td>1</td>\n",
              "      <td>2</td>\n",
              "      <td>0</td>\n",
              "    </tr>\n",
              "  </tbody>\n",
              "</table>\n",
              "<p>418 rows × 11 columns</p>\n",
              "</div>\n",
              "      <button class=\"colab-df-convert\" onclick=\"convertToInteractive('df-1f59b216-c197-465b-b467-7b9fc2635a8a')\"\n",
              "              title=\"Convert this dataframe to an interactive table.\"\n",
              "              style=\"display:none;\">\n",
              "        \n",
              "  <svg xmlns=\"http://www.w3.org/2000/svg\" height=\"24px\"viewBox=\"0 0 24 24\"\n",
              "       width=\"24px\">\n",
              "    <path d=\"M0 0h24v24H0V0z\" fill=\"none\"/>\n",
              "    <path d=\"M18.56 5.44l.94 2.06.94-2.06 2.06-.94-2.06-.94-.94-2.06-.94 2.06-2.06.94zm-11 1L8.5 8.5l.94-2.06 2.06-.94-2.06-.94L8.5 2.5l-.94 2.06-2.06.94zm10 10l.94 2.06.94-2.06 2.06-.94-2.06-.94-.94-2.06-.94 2.06-2.06.94z\"/><path d=\"M17.41 7.96l-1.37-1.37c-.4-.4-.92-.59-1.43-.59-.52 0-1.04.2-1.43.59L10.3 9.45l-7.72 7.72c-.78.78-.78 2.05 0 2.83L4 21.41c.39.39.9.59 1.41.59.51 0 1.02-.2 1.41-.59l7.78-7.78 2.81-2.81c.8-.78.8-2.07 0-2.86zM5.41 20L4 18.59l7.72-7.72 1.47 1.35L5.41 20z\"/>\n",
              "  </svg>\n",
              "      </button>\n",
              "      \n",
              "  <style>\n",
              "    .colab-df-container {\n",
              "      display:flex;\n",
              "      flex-wrap:wrap;\n",
              "      gap: 12px;\n",
              "    }\n",
              "\n",
              "    .colab-df-convert {\n",
              "      background-color: #E8F0FE;\n",
              "      border: none;\n",
              "      border-radius: 50%;\n",
              "      cursor: pointer;\n",
              "      display: none;\n",
              "      fill: #1967D2;\n",
              "      height: 32px;\n",
              "      padding: 0 0 0 0;\n",
              "      width: 32px;\n",
              "    }\n",
              "\n",
              "    .colab-df-convert:hover {\n",
              "      background-color: #E2EBFA;\n",
              "      box-shadow: 0px 1px 2px rgba(60, 64, 67, 0.3), 0px 1px 3px 1px rgba(60, 64, 67, 0.15);\n",
              "      fill: #174EA6;\n",
              "    }\n",
              "\n",
              "    [theme=dark] .colab-df-convert {\n",
              "      background-color: #3B4455;\n",
              "      fill: #D2E3FC;\n",
              "    }\n",
              "\n",
              "    [theme=dark] .colab-df-convert:hover {\n",
              "      background-color: #434B5C;\n",
              "      box-shadow: 0px 1px 3px 1px rgba(0, 0, 0, 0.15);\n",
              "      filter: drop-shadow(0px 1px 2px rgba(0, 0, 0, 0.3));\n",
              "      fill: #FFFFFF;\n",
              "    }\n",
              "  </style>\n",
              "\n",
              "      <script>\n",
              "        const buttonEl =\n",
              "          document.querySelector('#df-1f59b216-c197-465b-b467-7b9fc2635a8a button.colab-df-convert');\n",
              "        buttonEl.style.display =\n",
              "          google.colab.kernel.accessAllowed ? 'block' : 'none';\n",
              "\n",
              "        async function convertToInteractive(key) {\n",
              "          const element = document.querySelector('#df-1f59b216-c197-465b-b467-7b9fc2635a8a');\n",
              "          const dataTable =\n",
              "            await google.colab.kernel.invokeFunction('convertToInteractive',\n",
              "                                                     [key], {});\n",
              "          if (!dataTable) return;\n",
              "\n",
              "          const docLinkHtml = 'Like what you see? Visit the ' +\n",
              "            '<a target=\"_blank\" href=https://colab.research.google.com/notebooks/data_table.ipynb>data table notebook</a>'\n",
              "            + ' to learn more about interactive tables.';\n",
              "          element.innerHTML = '';\n",
              "          dataTable['output_type'] = 'display_data';\n",
              "          await google.colab.output.renderOutput(dataTable, element);\n",
              "          const docLink = document.createElement('div');\n",
              "          docLink.innerHTML = docLinkHtml;\n",
              "          element.appendChild(docLink);\n",
              "        }\n",
              "      </script>\n",
              "    </div>\n",
              "  </div>\n",
              "  "
            ]
          },
          "metadata": {},
          "execution_count": 25
        }
      ]
    },
    {
      "cell_type": "markdown",
      "source": [
        "##Training and Testing Datasets"
      ],
      "metadata": {
        "id": "pyYryPrxAnYW"
      }
    },
    {
      "cell_type": "code",
      "metadata": {
        "id": "jSkVyUP34t77"
      },
      "source": [
        "#Training Dataset\n",
        "X_train = train_df.drop([\"Survived\",\"Fare\"], axis=1)\n",
        "Y_train = train_df[\"Survived\"]\n",
        "\n",
        "#Testing Dataset\n",
        "# X_test  = test_df.drop([\"PassengerId\",\"Cabin\",\"Fare\"], axis=1).copy()\n",
        "# Y_test = test_df[\"Survived\"]"
      ],
      "execution_count": 26,
      "outputs": []
    },
    {
      "cell_type": "code",
      "source": [
        "X_train.head()"
      ],
      "metadata": {
        "id": "ixW2hZDuAd8l",
        "colab": {
          "base_uri": "https://localhost:8080/",
          "height": 206
        },
        "outputId": "1acee318-0ccd-488b-f7ba-218d35d2cb4d"
      },
      "execution_count": 27,
      "outputs": [
        {
          "output_type": "execute_result",
          "data": {
            "text/plain": [
              "   Pclass  Sex  Age  SibSp  Parch  Embarked  relatives  not_alone\n",
              "0       3    0    2      1      0         0          1          0\n",
              "1       1    1    5      1      0         1          1          0\n",
              "2       3    1    3      0      0         0          0          1\n",
              "3       1    1    5      1      0         0          1          0\n",
              "4       3    0    5      0      0         0          0          1"
            ],
            "text/html": [
              "\n",
              "  <div id=\"df-c7779ae1-abcc-47f7-8236-9a78b7afd107\">\n",
              "    <div class=\"colab-df-container\">\n",
              "      <div>\n",
              "<style scoped>\n",
              "    .dataframe tbody tr th:only-of-type {\n",
              "        vertical-align: middle;\n",
              "    }\n",
              "\n",
              "    .dataframe tbody tr th {\n",
              "        vertical-align: top;\n",
              "    }\n",
              "\n",
              "    .dataframe thead th {\n",
              "        text-align: right;\n",
              "    }\n",
              "</style>\n",
              "<table border=\"1\" class=\"dataframe\">\n",
              "  <thead>\n",
              "    <tr style=\"text-align: right;\">\n",
              "      <th></th>\n",
              "      <th>Pclass</th>\n",
              "      <th>Sex</th>\n",
              "      <th>Age</th>\n",
              "      <th>SibSp</th>\n",
              "      <th>Parch</th>\n",
              "      <th>Embarked</th>\n",
              "      <th>relatives</th>\n",
              "      <th>not_alone</th>\n",
              "    </tr>\n",
              "  </thead>\n",
              "  <tbody>\n",
              "    <tr>\n",
              "      <th>0</th>\n",
              "      <td>3</td>\n",
              "      <td>0</td>\n",
              "      <td>2</td>\n",
              "      <td>1</td>\n",
              "      <td>0</td>\n",
              "      <td>0</td>\n",
              "      <td>1</td>\n",
              "      <td>0</td>\n",
              "    </tr>\n",
              "    <tr>\n",
              "      <th>1</th>\n",
              "      <td>1</td>\n",
              "      <td>1</td>\n",
              "      <td>5</td>\n",
              "      <td>1</td>\n",
              "      <td>0</td>\n",
              "      <td>1</td>\n",
              "      <td>1</td>\n",
              "      <td>0</td>\n",
              "    </tr>\n",
              "    <tr>\n",
              "      <th>2</th>\n",
              "      <td>3</td>\n",
              "      <td>1</td>\n",
              "      <td>3</td>\n",
              "      <td>0</td>\n",
              "      <td>0</td>\n",
              "      <td>0</td>\n",
              "      <td>0</td>\n",
              "      <td>1</td>\n",
              "    </tr>\n",
              "    <tr>\n",
              "      <th>3</th>\n",
              "      <td>1</td>\n",
              "      <td>1</td>\n",
              "      <td>5</td>\n",
              "      <td>1</td>\n",
              "      <td>0</td>\n",
              "      <td>0</td>\n",
              "      <td>1</td>\n",
              "      <td>0</td>\n",
              "    </tr>\n",
              "    <tr>\n",
              "      <th>4</th>\n",
              "      <td>3</td>\n",
              "      <td>0</td>\n",
              "      <td>5</td>\n",
              "      <td>0</td>\n",
              "      <td>0</td>\n",
              "      <td>0</td>\n",
              "      <td>0</td>\n",
              "      <td>1</td>\n",
              "    </tr>\n",
              "  </tbody>\n",
              "</table>\n",
              "</div>\n",
              "      <button class=\"colab-df-convert\" onclick=\"convertToInteractive('df-c7779ae1-abcc-47f7-8236-9a78b7afd107')\"\n",
              "              title=\"Convert this dataframe to an interactive table.\"\n",
              "              style=\"display:none;\">\n",
              "        \n",
              "  <svg xmlns=\"http://www.w3.org/2000/svg\" height=\"24px\"viewBox=\"0 0 24 24\"\n",
              "       width=\"24px\">\n",
              "    <path d=\"M0 0h24v24H0V0z\" fill=\"none\"/>\n",
              "    <path d=\"M18.56 5.44l.94 2.06.94-2.06 2.06-.94-2.06-.94-.94-2.06-.94 2.06-2.06.94zm-11 1L8.5 8.5l.94-2.06 2.06-.94-2.06-.94L8.5 2.5l-.94 2.06-2.06.94zm10 10l.94 2.06.94-2.06 2.06-.94-2.06-.94-.94-2.06-.94 2.06-2.06.94z\"/><path d=\"M17.41 7.96l-1.37-1.37c-.4-.4-.92-.59-1.43-.59-.52 0-1.04.2-1.43.59L10.3 9.45l-7.72 7.72c-.78.78-.78 2.05 0 2.83L4 21.41c.39.39.9.59 1.41.59.51 0 1.02-.2 1.41-.59l7.78-7.78 2.81-2.81c.8-.78.8-2.07 0-2.86zM5.41 20L4 18.59l7.72-7.72 1.47 1.35L5.41 20z\"/>\n",
              "  </svg>\n",
              "      </button>\n",
              "      \n",
              "  <style>\n",
              "    .colab-df-container {\n",
              "      display:flex;\n",
              "      flex-wrap:wrap;\n",
              "      gap: 12px;\n",
              "    }\n",
              "\n",
              "    .colab-df-convert {\n",
              "      background-color: #E8F0FE;\n",
              "      border: none;\n",
              "      border-radius: 50%;\n",
              "      cursor: pointer;\n",
              "      display: none;\n",
              "      fill: #1967D2;\n",
              "      height: 32px;\n",
              "      padding: 0 0 0 0;\n",
              "      width: 32px;\n",
              "    }\n",
              "\n",
              "    .colab-df-convert:hover {\n",
              "      background-color: #E2EBFA;\n",
              "      box-shadow: 0px 1px 2px rgba(60, 64, 67, 0.3), 0px 1px 3px 1px rgba(60, 64, 67, 0.15);\n",
              "      fill: #174EA6;\n",
              "    }\n",
              "\n",
              "    [theme=dark] .colab-df-convert {\n",
              "      background-color: #3B4455;\n",
              "      fill: #D2E3FC;\n",
              "    }\n",
              "\n",
              "    [theme=dark] .colab-df-convert:hover {\n",
              "      background-color: #434B5C;\n",
              "      box-shadow: 0px 1px 3px 1px rgba(0, 0, 0, 0.15);\n",
              "      filter: drop-shadow(0px 1px 2px rgba(0, 0, 0, 0.3));\n",
              "      fill: #FFFFFF;\n",
              "    }\n",
              "  </style>\n",
              "\n",
              "      <script>\n",
              "        const buttonEl =\n",
              "          document.querySelector('#df-c7779ae1-abcc-47f7-8236-9a78b7afd107 button.colab-df-convert');\n",
              "        buttonEl.style.display =\n",
              "          google.colab.kernel.accessAllowed ? 'block' : 'none';\n",
              "\n",
              "        async function convertToInteractive(key) {\n",
              "          const element = document.querySelector('#df-c7779ae1-abcc-47f7-8236-9a78b7afd107');\n",
              "          const dataTable =\n",
              "            await google.colab.kernel.invokeFunction('convertToInteractive',\n",
              "                                                     [key], {});\n",
              "          if (!dataTable) return;\n",
              "\n",
              "          const docLinkHtml = 'Like what you see? Visit the ' +\n",
              "            '<a target=\"_blank\" href=https://colab.research.google.com/notebooks/data_table.ipynb>data table notebook</a>'\n",
              "            + ' to learn more about interactive tables.';\n",
              "          element.innerHTML = '';\n",
              "          dataTable['output_type'] = 'display_data';\n",
              "          await google.colab.output.renderOutput(dataTable, element);\n",
              "          const docLink = document.createElement('div');\n",
              "          docLink.innerHTML = docLinkHtml;\n",
              "          element.appendChild(docLink);\n",
              "        }\n",
              "      </script>\n",
              "    </div>\n",
              "  </div>\n",
              "  "
            ]
          },
          "metadata": {},
          "execution_count": 27
        }
      ]
    },
    {
      "cell_type": "code",
      "source": [
        "Y_train.head()"
      ],
      "metadata": {
        "id": "sODKFu8nAarP",
        "colab": {
          "base_uri": "https://localhost:8080/"
        },
        "outputId": "7270f6e2-bf67-403d-bb57-689cc245926e"
      },
      "execution_count": 28,
      "outputs": [
        {
          "output_type": "execute_result",
          "data": {
            "text/plain": [
              "0    0\n",
              "1    1\n",
              "2    1\n",
              "3    1\n",
              "4    0\n",
              "Name: Survived, dtype: int64"
            ]
          },
          "metadata": {},
          "execution_count": 28
        }
      ]
    },
    {
      "cell_type": "code",
      "source": [
        "# Creating Train and Test splits from the train dataframe\n",
        "X_train, X_test, Y_train, Y_test = train_test_split(X_train, Y_train, test_size=0.30)"
      ],
      "metadata": {
        "id": "zyt9xMZve7Rd"
      },
      "execution_count": 30,
      "outputs": []
    },
    {
      "cell_type": "markdown",
      "source": [
        "#Training"
      ],
      "metadata": {
        "id": "7SbR76OcBlyV"
      }
    },
    {
      "cell_type": "code",
      "metadata": {
        "id": "xfCIAPAh5Opm",
        "colab": {
          "base_uri": "https://localhost:8080/"
        },
        "outputId": "dff4ff08-6520-494c-b854-03de4936032d"
      },
      "source": [
        "logreg = LogisticRegression()\n",
        "logreg.fit(X_train, Y_train)"
      ],
      "execution_count": 31,
      "outputs": [
        {
          "output_type": "execute_result",
          "data": {
            "text/plain": [
              "LogisticRegression()"
            ]
          },
          "metadata": {},
          "execution_count": 31
        }
      ]
    },
    {
      "cell_type": "markdown",
      "source": [
        "#Testing"
      ],
      "metadata": {
        "id": "8kCU5WlHBnm2"
      }
    },
    {
      "cell_type": "code",
      "source": [
        "Y_pred = logreg.predict(X_test)\n",
        "\n",
        "acc_log = round(logreg.score(X_train, Y_train) * 100, 2)\n",
        "print(\"Train Accuracy via logistic regression: \",acc_log)"
      ],
      "metadata": {
        "id": "VwM_-OC2B0-C",
        "colab": {
          "base_uri": "https://localhost:8080/"
        },
        "outputId": "8120ae42-fa4d-429b-f2bd-92e37b19f74a"
      },
      "execution_count": 32,
      "outputs": [
        {
          "output_type": "stream",
          "name": "stdout",
          "text": [
            "Train Accuracy via logistic regression:  80.1\n"
          ]
        }
      ]
    },
    {
      "cell_type": "code",
      "source": [
        "acc_log = round(logreg.score(X_test, Y_test) * 100, 2)\n",
        "print(\"Test Accuracy via logistic regression: \",acc_log)"
      ],
      "metadata": {
        "colab": {
          "base_uri": "https://localhost:8080/"
        },
        "id": "AV2mWLmMfiJb",
        "outputId": "ebf602eb-775c-4045-81b4-1a6dfea8a976"
      },
      "execution_count": 33,
      "outputs": [
        {
          "output_type": "stream",
          "name": "stdout",
          "text": [
            "Test Accuracy via logistic regression:  79.48\n"
          ]
        }
      ]
    },
    {
      "cell_type": "code",
      "metadata": {
        "id": "dEt0at6c6Vbc",
        "colab": {
          "base_uri": "https://localhost:8080/"
        },
        "outputId": "d86b4b9e-5134-4ae4-9f20-7b9435df7b49"
      },
      "source": [
        "from sklearn.model_selection import cross_val_score\n",
        "#That is, to use a limited sample in order to estimate how the model is expected to perform in general when used to make predictions on data not used during the training of the model.\n",
        "\n",
        "scores = cross_val_score(logreg, X_train, Y_train, scoring = \"accuracy\")\n",
        "print(\"Scores:\", scores)\n",
        "print(\"Mean:\", scores.mean())\n",
        "print(\"Standard Deviation:\", scores.std())"
      ],
      "execution_count": 34,
      "outputs": [
        {
          "output_type": "stream",
          "name": "stdout",
          "text": [
            "Scores: [0.776      0.856      0.84       0.79032258 0.71774194]\n",
            "Mean: 0.7960129032258065\n",
            "Standard Deviation: 0.04917836296558706\n"
          ]
        }
      ]
    },
    {
      "cell_type": "markdown",
      "source": [
        "##Confusion Matrix"
      ],
      "metadata": {
        "id": "gbfoVIJ8hi3v"
      }
    },
    {
      "cell_type": "markdown",
      "source": [
        "![image.png](data:image/png;base64,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)"
      ],
      "metadata": {
        "id": "-Bp1-QTyhbQR"
      }
    },
    {
      "cell_type": "code",
      "source": [
        "#Confusion Matrix\n",
        "from sklearn.metrics import confusion_matrix\n",
        "from sklearn.metrics import plot_confusion_matrix\n",
        "\n",
        "plot_confusion_matrix(logreg, X_test, Y_test)  \n",
        "plt.show()"
      ],
      "metadata": {
        "colab": {
          "base_uri": "https://localhost:8080/",
          "height": 280
        },
        "id": "yiVcWqbVcllh",
        "outputId": "9ee448b1-72b7-4f8f-9942-357c2b65ba5e"
      },
      "execution_count": 35,
      "outputs": [
        {
          "output_type": "display_data",
          "data": {
            "text/plain": [
              "<Figure size 432x288 with 2 Axes>"
            ],
            "image/png": "[encoded data removed]"
          },
          "metadata": {
            "needs_background": "light"
          }
        }
      ]
    }
  ]
}